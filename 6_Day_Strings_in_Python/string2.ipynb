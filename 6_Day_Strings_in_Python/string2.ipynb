#!/usr/bin/env python
# coding: utf-8

# In[3]:


#String in python
##String is a sequence of character 
#String can be created using single/Double/triple quotes '',"",''' '''
#Triple quotes is used for multipe lines comments of string

#Single quotes
str1='Welocme to python'
#Double quotes 
str2= "Welocme to python"
#Triple quotes for multiple lines
str3="""Welcome
               to
                  python"""
print(str1)
print(str2)
print(str3)


# In[4]:


#String Indexing
#Python indexing start from zero like:w=0,e=1,l=2..... and so on!!!!
str="Welcome to python"
print(str[2])


# In[11]:


#Slicing ::
#Syntax ::print(str[start::Blank=All,Increment])
str1="Welocme to python"
str1="Welocme to python"
print(str1[0::1])


#Increment
str1="Welocme to python"
print(str1[0::2])


# In[15]:


#String Reversing
str1="Welocme to python"
print(str1[-1::-1])
print(str1[-1::-1])


# In[23]:


#String iteration
str="Welcome"
t=len(str)
print(t)
for c in range(t):
    print(str[c])


# In[9]:


#String Finction:
#1.Lower() 2.upper() 3.title() 4.capital()

#1.lower() :: To make the string in small letters
l1="WELCOME TO PYTHON"
n1=l.lower()


# 2.upper() Capital
l2="welcome to python"
n2=l.upper()



# 3.title() Frist letter of every word
l3="welcome to python" 
n3=l.title()


# 4.capital() Frist letter of string
l4="welcome to python"
n4=l.capitalize()

print(n1)
print(n2)
print(n3)
print(n4)


# In[ ]:




